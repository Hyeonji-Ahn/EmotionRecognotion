{
 "cells": [
  {
   "cell_type": "code",
   "execution_count": 8,
   "metadata": {
    "executionInfo": {
     "elapsed": 3,
     "status": "ok",
     "timestamp": 1646206614722,
     "user": {
      "displayName": "Aayush Sheth",
      "photoUrl": "https://lh3.googleusercontent.com/a/default-user=s64",
      "userId": "06881108514764291165"
     },
     "user_tz": 480
    },
    "id": "zjEqRcpjIkie"
   },
   "outputs": [],
   "source": [
    "# get the frames from a video"
   ]
  },
  {
   "cell_type": "code",
   "execution_count": 9,
   "metadata": {
    "executionInfo": {
     "elapsed": 333,
     "status": "ok",
     "timestamp": 1646206660925,
     "user": {
      "displayName": "Aayush Sheth",
      "photoUrl": "https://lh3.googleusercontent.com/a/default-user=s64",
      "userId": "06881108514764291165"
     },
     "user_tz": 480
    },
    "id": "bzFFuTK0Ikif"
   },
   "outputs": [],
   "source": [
    "import cv2\n",
    "#change the path to where you put your video\n",
    "\n",
    "inDir = r\"C:\\Users\\ahj28\\Desktop\\Python\\Sample\"\n",
    "MovFile = 'IMG_6925.MOV'\n",
    "outDir = r\"C:\\Users\\ahj28\\Desktop\\Python\\Sample\""
   ]
  },
  {
   "cell_type": "code",
   "execution_count": 10,
   "metadata": {
    "id": "BBeT_VZZIkig"
   },
   "outputs": [],
   "source": [
    "# # This cell is individually modified. It does work with cells below.\n",
    "\n",
    "# path = r'D:\\Work\\DISC_frames_and_csv\\DISC_frames'\n",
    "# subs = ['1','2','3','4','5','6','7','8','9','10']\n",
    "# timeF = 25\n",
    "\n",
    "# for sub in subs:\n",
    "#     vc = cv2.VideoCapture(path + '\\\\' + sub + '\\\\' + sub + '.MOV')\n",
    "#     c=0\n",
    "#     if vc.isOpened():\n",
    "#         rval,frame = vc.read()\n",
    "#     else:\n",
    "#         rval = False\n",
    "    \n",
    "#     print('sub '+str(sub)+ ':'+str(rval))\n",
    "#     print('working...')\n",
    "        \n",
    "#     while rval:\n",
    "#         rval, frame = vc.read()\n",
    "#         if c%timeF == 0:\n",
    "#             cv2.imwrite(path + '\\\\' + sub + '\\\\' + str(100000+c) + '.bmp', frame)\n",
    "#         c += 1\n",
    "#         cv2.waitKey(1)\n",
    "#     vc.release()"
   ]
  },
  {
   "cell_type": "code",
   "execution_count": 11,
   "metadata": {
    "colab": {
     "base_uri": "https://localhost:8080/"
    },
    "executionInfo": {
     "elapsed": 303,
     "status": "ok",
     "timestamp": 1646206749456,
     "user": {
      "displayName": "Aayush Sheth",
      "photoUrl": "https://lh3.googleusercontent.com/a/default-user=s64",
      "userId": "06881108514764291165"
     },
     "user_tz": 480
    },
    "id": "PiY1MnCbIkih",
    "outputId": "5edbb86c-4d0f-4f46-d2f8-384d9a62ecb4"
   },
   "outputs": [
    {
     "data": {
      "text/plain": [
       "True"
      ]
     },
     "execution_count": 11,
     "metadata": {},
     "output_type": "execute_result"
    }
   ],
   "source": [
    "vc = cv2.VideoCapture(inDir + '\\\\'+MovFile) # change the name of the video file\n",
    "c = 15\n",
    "\n",
    "if vc.isOpened():\n",
    "    rval, frame = vc.read()\n",
    "else:\n",
    "    rval = False\n",
    "    \n",
    "rval # for checking if the file exists"
   ]
  },
  {
   "cell_type": "code",
   "execution_count": 12,
   "metadata": {
    "id": "-3566775Ikii"
   },
   "outputs": [],
   "source": [
    "timeF = 30 #number of actual frames between two captured frames\n",
    "\n",
    "while rval:\n",
    "    \n",
    "    rval, frame = vc.read()\n",
    "    if c%timeF == 0:\n",
    "        cv2.imwrite(outDir + '\\\\' + str(1100000+c) + r'.png', frame)\n",
    "    c += 1\n",
    "    cv2.waitKey(1)\n",
    "vc.release()"
   ]
  },
  {
   "cell_type": "markdown",
   "metadata": {},
   "source": []
  },
  {
   "cell_type": "code",
   "execution_count": 13,
   "metadata": {
    "id": "XiOWINSSIkij"
   },
   "outputs": [
    {
     "name": "stdout",
     "output_type": "stream",
     "text": [
      "done!\n"
     ]
    }
   ],
   "source": [
    "# All the frames\n",
    "\n",
    "\n",
    "# vidcap = cv2.VideoCapture('big_buck_bunny_720p_5mb.mp4')\n",
    "# success,image = vidcap.read()\n",
    "count = 0\n",
    "while rval:\n",
    "    rval, frame = vc.read()\n",
    "    if rval:\n",
    "        cv2.imwrite(outDir + '\\\\Frames\\\\'+'frame' + str(100000+count) +r'.jpg', frame)     # save frame as JPEG file      \n",
    "\n",
    "        print('Read a new frame: ', count)\n",
    "    count += 1\n",
    "    cv2.waitKey(1)\n",
    "print('done!')\n",
    "vc.release()"
   ]
  },
  {
   "cell_type": "code",
   "execution_count": 14,
   "metadata": {},
   "outputs": [],
   "source": [
    "vc.release()"
   ]
  },
  {
   "cell_type": "code",
   "execution_count": null,
   "metadata": {},
   "outputs": [],
   "source": []
  }
 ],
 "metadata": {
  "colab": {
   "name": "video_to_frames.ipynb",
   "provenance": []
  },
  "kernelspec": {
   "display_name": "Python 3",
   "language": "python",
   "name": "python3"
  },
  "language_info": {
   "codemirror_mode": {
    "name": "ipython",
    "version": 3
   },
   "file_extension": ".py",
   "mimetype": "text/x-python",
   "name": "python",
   "nbconvert_exporter": "python",
   "pygments_lexer": "ipython3",
   "version": "3.11.4"
  },
  "vscode": {
   "interpreter": {
    "hash": "ad2bdc8ecc057115af97d19610ffacc2b4e99fae6737bb82f5d7fb13d2f2c186"
   }
  }
 },
 "nbformat": 4,
 "nbformat_minor": 1
}
