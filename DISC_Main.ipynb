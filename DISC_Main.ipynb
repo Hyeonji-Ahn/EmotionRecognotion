{
 "cells": [
  {
   "cell_type": "code",
   "execution_count": null,
   "id": "d6f8e51c",
   "metadata": {},
   "outputs": [],
   "source": [
    "# ====== IMPORTING MODULES\n",
    "from matplotlib import pyplot as plt\n",
    "import numpy as np\n",
    "from scipy import stats\n",
    "import os\n",
    "import cv2\n",
    "import pandas as pd\n",
    "from PIL import Image\n",
    "import glob\n",
    "\n",
    "# locate the pydic module and import it\n",
    "import imp\n",
    "pydic = imp.load_source('pydic', r'C:\\Users\\ahj28\\Desktop\\Python\\pydic_v0_1-shifu.py')\n",
    "\n",
    "\n",
    "#  ====== RUN PYDIC TO COMPUTE DISPLACEMENT AND STRAIN FIELDS (STRUCTURED GRID)\n",
    "correl_wind_size = (60,60) # was (80,80) the size in pixel of the correlation windows\n",
    "correl_grid_size = (10,10) # was (50,50) the size in pixel of the interval (dx,dy) of the correlation grid\n",
    "\n",
    "pp = r'C:\\Users\\ahj28\\Desktop\\Python\\SampleOutput\\ColorOutput'\n",
    "\n",
    "for filename in glob.glob(pp+'/*.png'):\n",
    "    sample_image_file=Image.open(filename)\n",
    "    break;\n",
    "\n",
    "dic_file = pp +'/result.dic'   # format: \"xxx.dic\"\n",
    "\n",
    "#ketamine before [(140, 560), (706, 1249)]\n",
    "#ketamine after [(213, 563), (762, 1240)]\n",
    "# read image series and write a separated result file\n",
    "pydic.init(pp+'/*.png', correl_wind_size, correl_grid_size, dic_file, area_of_intersest=[(0,0), (sample_image_file.width,sample_image_file.height)] , Ref_First = True)\n",
    "#can do all, if the area of interest is not there, \"all, none\" and can create new\n",
    "#def init(image_pattern, win_size_px, grid_size_px, result_file, area_of_intersest=None, Ref_First = False, *args, **kwargs)\n",
    "#cv2.waitKey(0)\n",
    "#cv2.destroyAllWindows()\n",
    "# and read the result file for computing strain and displacement field from the result file\n",
    "\n",
    "pydic.FixedscaleValues = [30,15,0]\n",
    "pydic.read_dic_file(dic_file, FixedScale = True, interpolation='raw', save_image=True, scale_disp=1, scale_grid=1)\n",
    "# pydic.read_dic_file('result.dic', interpolation='raw', save_image=True, scale_disp=1, scale_grid=1)\n",
    "#def read_dic_file(result_file, FixedScale = False, *args, **kwargs):\n"
   ]
  },
  {
   "cell_type": "code",
   "execution_count": null,
   "id": "0637f639",
   "metadata": {},
   "outputs": [],
   "source": [
    "pydic.FixedscaleValues = [40,30,0]\n",
    "#30 top range of movement and detection\n",
    "pydic.read_dic_file(dic_file, FixedScale = False, interpolation='raw', save_image=True, scale_disp=1, scale_grid=1)\n",
    "#Fixed Scale is about backgroud. When True"
   ]
  },
  {
   "cell_type": "markdown",
   "id": "e3978b71",
   "metadata": {},
   "source": [
    "pydic = imp.load_source('pydic', r'D:\\DISC\\pydic_v0_1-shifu.py')\n",
    "pydic.read_dic_file('result_contr.dic', interpolation='raw', save_image=True, scale_disp=1, scale_grid=3)\n",
    "#def read_dic_file(result_file, FixedScale = False, *args, **kwargs):"
   ]
  }
 ],
 "metadata": {
  "kernelspec": {
   "display_name": "Python 3.8.8 ('base')",
   "language": "python",
   "name": "python3"
  },
  "language_info": {
   "codemirror_mode": {
    "name": "ipython",
    "version": 3
   },
   "file_extension": ".py",
   "mimetype": "text/x-python",
   "name": "python",
   "nbconvert_exporter": "python",
   "pygments_lexer": "ipython3",
   "version": "3.11.4"
  },
  "vscode": {
   "interpreter": {
    "hash": "ad2bdc8ecc057115af97d19610ffacc2b4e99fae6737bb82f5d7fb13d2f2c186"
   }
  }
 },
 "nbformat": 4,
 "nbformat_minor": 5
}
