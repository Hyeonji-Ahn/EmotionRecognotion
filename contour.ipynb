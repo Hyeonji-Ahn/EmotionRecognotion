{
 "cells": [
  {
   "cell_type": "code",
   "execution_count": 19,
   "metadata": {},
   "outputs": [
    {
     "ename": "error",
     "evalue": "OpenCV(4.8.0) D:\\a\\opencv-python\\opencv-python\\opencv\\modules\\imgproc\\src\\color.cpp:182: error: (-215:Assertion failed) !_src.empty() in function 'cv::cvtColor'\n",
     "output_type": "error",
     "traceback": [
      "\u001b[1;31m---------------------------------------------------------------------------\u001b[0m",
      "\u001b[1;31merror\u001b[0m                                     Traceback (most recent call last)",
      "Cell \u001b[1;32mIn[19], line 5\u001b[0m\n\u001b[0;32m      3\u001b[0m link \u001b[39m=\u001b[39m \u001b[39mr\u001b[39m\u001b[39m'\u001b[39m\u001b[39m\"\u001b[39m\u001b[39mC:\u001b[39m\u001b[39m\\\u001b[39m\u001b[39mUsers\u001b[39m\u001b[39m\\\u001b[39m\u001b[39mahj28\u001b[39m\u001b[39m\\\u001b[39m\u001b[39mDownloads\u001b[39m\u001b[39m\\\u001b[39m\u001b[39mMy project-1 (1).png\u001b[39m\u001b[39m'\u001b[39m\n\u001b[0;32m      4\u001b[0m image2 \u001b[39m=\u001b[39m cv2\u001b[39m.\u001b[39mimread(link)\n\u001b[1;32m----> 5\u001b[0m img_gray2 \u001b[39m=\u001b[39m cv2\u001b[39m.\u001b[39;49mcvtColor(image2, cv2\u001b[39m.\u001b[39;49mCOLOR_BGR2GRAY)\n\u001b[0;32m      6\u001b[0m ret, thresh2 \u001b[39m=\u001b[39m cv2\u001b[39m.\u001b[39mthreshold(img_gray2, \u001b[39m150\u001b[39m, \u001b[39m255\u001b[39m, cv2\u001b[39m.\u001b[39mTHRESH_BINARY)\n\u001b[0;32m      8\u001b[0m contours4, hierarchy4 \u001b[39m=\u001b[39m cv2\u001b[39m.\u001b[39mfindContours(thresh2, cv2\u001b[39m.\u001b[39mRETR_EXTERNAL, cv2\u001b[39m.\u001b[39mCHAIN_APPROX_NONE)\n",
      "\u001b[1;31merror\u001b[0m: OpenCV(4.8.0) D:\\a\\opencv-python\\opencv-python\\opencv\\modules\\imgproc\\src\\color.cpp:182: error: (-215:Assertion failed) !_src.empty() in function 'cv::cvtColor'\n"
     ]
    }
   ],
   "source": [
    "#not WORKING!!!!\n",
    "import cv2\n",
    "\n",
    "link = r'\"C:\\Users\\ahj28\\Downloads\\My project-1 (1).png'\n",
    "image2 = cv2.imread(link)\n",
    "img_gray2 = cv2.cvtColor(image2, cv2.COLOR_BGR2GRAY)\n",
    "ret, thresh2 = cv2.threshold(img_gray2, 150, 255, cv2.THRESH_BINARY)\n",
    "\n",
    "contours4, hierarchy4 = cv2.findContours(thresh2, cv2.RETR_EXTERNAL, cv2.CHAIN_APPROX_NONE)\n",
    "image_copy5 = image2.copy()\n",
    "cv2.drawContours(image_copy5, contours4, -1, (0, 255, 0), 2, cv2.LINE_AA)\n",
    "# see the results\n",
    "cv2.imshow('EXTERNAL', image_copy5)\n",
    "print(f\"EXTERNAL: {hierarchy4}\")\n",
    "cv2.waitKey(0)\n",
    "cv2.imwrite('contours_retr_external.jpg', image_copy5)\n",
    "cv2.destroyAllWindows()"
   ]
  },
  {
   "cell_type": "code",
   "execution_count": null,
   "metadata": {},
   "outputs": [
    {
     "ename": "ModuleNotFoundError",
     "evalue": "No module named 'dlib'",
     "output_type": "error",
     "traceback": [
      "\u001b[1;31m---------------------------------------------------------------------------\u001b[0m",
      "\u001b[1;31mModuleNotFoundError\u001b[0m                       Traceback (most recent call last)",
      "Cell \u001b[1;32mIn[18], line 1\u001b[0m\n\u001b[1;32m----> 1\u001b[0m \u001b[39mimport\u001b[39;00m \u001b[39mdlib\u001b[39;00m\n\u001b[0;32m      2\u001b[0m \u001b[39mimport\u001b[39;00m \u001b[39mcv2\u001b[39;00m\n\u001b[0;32m      4\u001b[0m \u001b[39m# Load the pre-trained face detector and shape predictor\u001b[39;00m\n",
      "\u001b[1;31mModuleNotFoundError\u001b[0m: No module named 'dlib'"
     ]
    }
   ],
   "source": [
    "import dlib\n",
    "import cv2\n",
    "\n",
    "# Load the pre-trained face detector and shape predictor\n",
    "face_detector = dlib.get_frontal_face_detector()\n",
    "shape_predictor = dlib.shape_predictor('shape_predictor_68_face_landmarks.dat')  # Replace with the path to the shape predictor file\n",
    "\n",
    "# Load the image\n",
    "image = cv2.imread(r'C:\\Users\\ahj28\\Desktop\\Garcia DISC Data\\Controls\\2\\Angry\\Cropped\\002.png')  # Replace 'image.jpg' with the path to your image file\n",
    "\n",
    "# Convert the image to grayscale\n",
    "gray = cv2.cvtColor(image, cv2.COLOR_BGR2GRAY)\n",
    "\n",
    "# Detect faces in the image\n",
    "faces = face_detector(gray)\n",
    "\n",
    "# Iterate over each detected face\n",
    "for face in faces:\n",
    "    # Predict facial landmarks\n",
    "    landmarks = shape_predictor(gray, face)\n",
    "\n",
    "    # Draw a detailed outline of the face\n",
    "    for i in range(1, 68):  # There are 68 facial landmarks in the predictor model\n",
    "        x = landmarks.part(i).x\n",
    "        y = landmarks.part(i).y\n",
    "        cv2.circle(image, (x, y), 1, (0, 0, 255), -1)\n",
    "\n",
    "# Display the image with the detailed face outline\n",
    "cv2.imshow('Detailed Face Outline', image)\n",
    "cv2.waitKey(0)\n",
    "cv2.destroyAllWindows()"
   ]
  }
 ],
 "metadata": {
  "kernelspec": {
   "display_name": ".venv",
   "language": "python",
   "name": "python3"
  },
  "language_info": {
   "codemirror_mode": {
    "name": "ipython",
    "version": 3
   },
   "file_extension": ".py",
   "mimetype": "text/x-python",
   "name": "python",
   "nbconvert_exporter": "python",
   "pygments_lexer": "ipython3",
   "version": "3.11.4"
  },
  "orig_nbformat": 4
 },
 "nbformat": 4,
 "nbformat_minor": 2
}
