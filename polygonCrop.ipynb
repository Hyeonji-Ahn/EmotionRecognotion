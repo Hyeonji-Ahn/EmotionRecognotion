{
 "cells": [
  {
   "cell_type": "code",
   "execution_count": null,
   "metadata": {},
   "outputs": [
    {
     "ename": "NameError",
     "evalue": "name 'draw_outline' is not defined",
     "output_type": "error",
     "traceback": [
      "\u001b[1;31m---------------------------------------------------------------------------\u001b[0m",
      "\u001b[1;31mNameError\u001b[0m                                 Traceback (most recent call last)",
      "Cell \u001b[1;32mIn[4], line 58\u001b[0m\n\u001b[0;32m     55\u001b[0m                     \u001b[39mprint\u001b[39m(\u001b[39mf\u001b[39m\u001b[39m\"\u001b[39m\u001b[39m{\u001b[39;00mfilename\u001b[39m}\u001b[39;00m\u001b[39m cropped and saved successfully!\u001b[39m\u001b[39m\"\u001b[39m)\n\u001b[0;32m     57\u001b[0m \u001b[39mif\u001b[39;00m \u001b[39m__name__\u001b[39m \u001b[39m==\u001b[39m \u001b[39m\"\u001b[39m\u001b[39m__main__\u001b[39m\u001b[39m\"\u001b[39m:\n\u001b[1;32m---> 58\u001b[0m     main()\n",
      "Cell \u001b[1;32mIn[4], line 32\u001b[0m, in \u001b[0;36mmain\u001b[1;34m()\u001b[0m\n\u001b[0;32m     29\u001b[0m clone \u001b[39m=\u001b[39m first_image\u001b[39m.\u001b[39mcopy()\n\u001b[0;32m     31\u001b[0m cv2\u001b[39m.\u001b[39mnamedWindow(\u001b[39m\"\u001b[39m\u001b[39mImage\u001b[39m\u001b[39m\"\u001b[39m)\n\u001b[1;32m---> 32\u001b[0m cv2\u001b[39m.\u001b[39msetMouseCallback(\u001b[39m\"\u001b[39m\u001b[39mImage\u001b[39m\u001b[39m\"\u001b[39m, draw_outline)\n\u001b[0;32m     34\u001b[0m \u001b[39mprint\u001b[39m(\u001b[39m\"\u001b[39m\u001b[39mDraw an outline on the image and press \u001b[39m\u001b[39m'\u001b[39m\u001b[39mc\u001b[39m\u001b[39m'\u001b[39m\u001b[39m to crop or \u001b[39m\u001b[39m'\u001b[39m\u001b[39mESC\u001b[39m\u001b[39m'\u001b[39m\u001b[39m to skip.\u001b[39m\u001b[39m\"\u001b[39m)\n\u001b[0;32m     36\u001b[0m \u001b[39mwhile\u001b[39;00m \u001b[39mTrue\u001b[39;00m:\n",
      "\u001b[1;31mNameError\u001b[0m: name 'draw_outline' is not defined"
     ]
    },
    {
     "ename": "",
     "evalue": "",
     "output_type": "error",
     "traceback": [
      "\u001b[1;31mThe Kernel crashed while executing code in the the current cell or a previous cell. Please review the code in the cell(s) to identify a possible cause of the failure. Click <a href='https://aka.ms/vscodeJupyterKernelCrash'>here</a> for more info. View Jupyter <a href='command:jupyter.viewOutput'>log</a> for further details."
     ]
    }
   ],
   "source": [
    "import os\n",
    "import cv2\n",
    "import numpy as np\n",
    "\n",
    "points = []  # To store the points drawn on the first image\n",
    "\n",
    "def crop_image(image, points):\n",
    "    mask = np.zeros(image.shape[:2], dtype=np.uint8)\n",
    "    points_np = np.array(points, dtype=np.int32)  # Convert points to a numpy array\n",
    "    cv2.drawContours(mask, [points_np], -1, 255, thickness=cv2.FILLED)\n",
    "    result = cv2.bitwise_and(image, image, mask=mask)\n",
    "    return result\n",
    "\n",
    "def draw_outline(event, x, y, flags, param):\n",
    "    if event == cv2.EVENT_LBUTTONDOWN:\n",
    "        points.append((x, y))\n",
    "    elif event == cv2.EVENT_LBUTTONUP:\n",
    "        cv2.circle(clone, (x, y), 2, (0, 0, 255), -1)\n",
    "        if len(points) > 1:\n",
    "            cv2.polylines(clone, np.array([points]), True, (0, 0, 255), 1)\n",
    "        cv2.imshow(\"Image\", clone)\n",
    "\n",
    "def main():\n",
    "    input_directory = r\"C:\\Users\\ahj28\\Desktop\\Garcia DISC Data\\Controls\\2\\Angry\\OriFrames\"\n",
    "    output_directory = r\"C:\\Users\\ahj28\\Desktop\\Garcia DISC Data\\Controls\\2\\Angry\\PolygonCrop\"\n",
    "    \n",
    "    os.makedirs(output_directory, exist_ok=True)\n",
    "\n",
    "    first_image = None\n",
    "\n",
    "    for filename in os.listdir(input_directory):\n",
    "        if filename.endswith(\".png\") or filename.endswith(\".jpg\") or filename.endswith(\".jpeg\"):\n",
    "            image_path = os.path.join(input_directory, filename)\n",
    "            image = cv2.imread(image_path)\n",
    "\n",
    "            if image is not None:\n",
    "                if first_image is None:\n",
    "                    first_image = image.copy()\n",
    "\n",
    "                    global clone\n",
    "                    clone = first_image.copy()\n",
    "\n",
    "                    cv2.namedWindow(\"Image\")\n",
    "                    cv2.setMouseCallback(\"Image\", draw_outline)\n",
    "\n",
    "                    print(\"Draw an outline on the image and press 'c' to crop or 'ESC' to skip.\")\n",
    "\n",
    "                    while True:\n",
    "                        cv2.imshow(\"Image\", clone)\n",
    "                        key = cv2.waitKey(1) & 0xFF\n",
    "                        if key == ord(\"r\"):  # Press 'r' to reset the points\n",
    "                            clone = first_image.copy()\n",
    "                            points.clear()\n",
    "                        elif key == ord(\"c\"):  # Press 'c' to continue\n",
    "                            if len(points) > 2:\n",
    "                                cv2.destroyAllWindows()\n",
    "                                break\n",
    "                        elif key == 27:  # Press 'ESC' to skip\n",
    "                            cv2.destroyAllWindows()\n",
    "                            first_image = None\n",
    "                            break\n",
    "\n",
    "                if len(points) > 2:\n",
    "                    cropped_image = crop_image(image, points)\n",
    "                    output_path = os.path.join(output_directory, filename)\n",
    "                    cv2.imwrite(output_path, cropped_image)\n",
    "                    print(f\"{filename} cropped and saved successfully!\")\n",
    "\n",
    "if __name__ == \"__main__\":\n",
    "    main()\n"
   ]
  }
 ],
 "metadata": {
  "kernelspec": {
   "display_name": ".venv",
   "language": "python",
   "name": "python3"
  },
  "language_info": {
   "codemirror_mode": {
    "name": "ipython",
    "version": 3
   },
   "file_extension": ".py",
   "mimetype": "text/x-python",
   "name": "python",
   "nbconvert_exporter": "python",
   "pygments_lexer": "ipython3",
   "version": "3.11.4"
  },
  "orig_nbformat": 4
 },
 "nbformat": 4,
 "nbformat_minor": 2
}
